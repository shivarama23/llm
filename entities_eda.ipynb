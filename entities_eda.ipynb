{
 "cells": [
  {
   "cell_type": "code",
   "execution_count": 4,
   "metadata": {},
   "outputs": [],
   "source": [
    "import re\n",
    "import pandas as pd"
   ]
  },
  {
   "cell_type": "code",
   "execution_count": 15,
   "metadata": {},
   "outputs": [],
   "source": [
    "data = pd.read_csv(r'./training-PHI-Gold-Set2.csv')"
   ]
  },
  {
   "cell_type": "code",
   "execution_count": 16,
   "metadata": {},
   "outputs": [
    {
     "data": {
      "text/html": [
       "<div>\n",
       "<style scoped>\n",
       "    .dataframe tbody tr th:only-of-type {\n",
       "        vertical-align: middle;\n",
       "    }\n",
       "\n",
       "    .dataframe tbody tr th {\n",
       "        vertical-align: top;\n",
       "    }\n",
       "\n",
       "    .dataframe thead th {\n",
       "        text-align: right;\n",
       "    }\n",
       "</style>\n",
       "<table border=\"1\" class=\"dataframe\">\n",
       "  <thead>\n",
       "    <tr style=\"text-align: right;\">\n",
       "      <th></th>\n",
       "      <th>file_name</th>\n",
       "      <th>paragraph</th>\n",
       "      <th>redacted_paragraph</th>\n",
       "    </tr>\n",
       "  </thead>\n",
       "  <tbody>\n",
       "    <tr>\n",
       "      <th>0</th>\n",
       "      <td>100-01.xml</td>\n",
       "      <td>\\n\\n\\nRecord date: 2106-02-12\\n\\nCampbell Orth...</td>\n",
       "      <td>\\n\\n\\nRecord date: [DATE]\\n\\n[HOSPITAL] Orthop...</td>\n",
       "    </tr>\n",
       "    <tr>\n",
       "      <th>1</th>\n",
       "      <td>100-02.xml</td>\n",
       "      <td>\\n\\n\\nRecord date: 2108-03-14\\n\\n             ...</td>\n",
       "      <td>\\n\\n\\nRecord date: [DATE]\\n\\n                 ...</td>\n",
       "    </tr>\n",
       "    <tr>\n",
       "      <th>2</th>\n",
       "      <td>100-03.xml</td>\n",
       "      <td>\\n\\n\\nRecord date: 2109-09-14\\n\\n \\nSeptember ...</td>\n",
       "      <td>\\n\\n\\nRecord date: [DATE]\\n\\n \\n[DATE] \\n \\n[D...</td>\n",
       "    </tr>\n",
       "    <tr>\n",
       "      <th>3</th>\n",
       "      <td>100-04.xml</td>\n",
       "      <td>\\n\\n\\nRecord date: 2111-10-10\\n\\n    \\n\\n\\n\\nC...</td>\n",
       "      <td>\\n\\n\\nRecord date: [DATE]\\n\\n    \\n\\n\\n\\nCCU J...</td>\n",
       "    </tr>\n",
       "    <tr>\n",
       "      <th>4</th>\n",
       "      <td>100-05.xml</td>\n",
       "      <td>\\n\\n\\nRecord date: 2111-12-14\\n\\n \\n\\n\\n\\nNEUR...</td>\n",
       "      <td>\\n\\n\\nRecord date: [DATE]\\n\\n \\n\\n\\n\\nNEUROLOG...</td>\n",
       "    </tr>\n",
       "  </tbody>\n",
       "</table>\n",
       "</div>"
      ],
      "text/plain": [
       "    file_name                                          paragraph  \\\n",
       "0  100-01.xml  \\n\\n\\nRecord date: 2106-02-12\\n\\nCampbell Orth...   \n",
       "1  100-02.xml  \\n\\n\\nRecord date: 2108-03-14\\n\\n             ...   \n",
       "2  100-03.xml  \\n\\n\\nRecord date: 2109-09-14\\n\\n \\nSeptember ...   \n",
       "3  100-04.xml  \\n\\n\\nRecord date: 2111-10-10\\n\\n    \\n\\n\\n\\nC...   \n",
       "4  100-05.xml  \\n\\n\\nRecord date: 2111-12-14\\n\\n \\n\\n\\n\\nNEUR...   \n",
       "\n",
       "                                  redacted_paragraph  \n",
       "0  \\n\\n\\nRecord date: [DATE]\\n\\n[HOSPITAL] Orthop...  \n",
       "1  \\n\\n\\nRecord date: [DATE]\\n\\n                 ...  \n",
       "2  \\n\\n\\nRecord date: [DATE]\\n\\n \\n[DATE] \\n \\n[D...  \n",
       "3  \\n\\n\\nRecord date: [DATE]\\n\\n    \\n\\n\\n\\nCCU J...  \n",
       "4  \\n\\n\\nRecord date: [DATE]\\n\\n \\n\\n\\n\\nNEUROLOG...  "
      ]
     },
     "execution_count": 16,
     "metadata": {},
     "output_type": "execute_result"
    }
   ],
   "source": [
    "data.head()"
   ]
  },
  {
   "cell_type": "code",
   "execution_count": 17,
   "metadata": {},
   "outputs": [],
   "source": [
    "entity_list = []\n",
    "count = 0\n",
    "for row in data.iterrows():\n",
    "    count = row[0]\n",
    "    redacted_para = row[1]['redacted_paragraph']\n",
    "\n",
    "    pattern = r'\\[([a-zA-Z]+)\\]'\n",
    "    matches = re.findall(pattern, redacted_para)\n",
    "\n",
    "    for match in matches:\n",
    "        entity_list.append(match)\n",
    "    if count == 20:\n",
    "        break"
   ]
  },
  {
   "cell_type": "code",
   "execution_count": 18,
   "metadata": {},
   "outputs": [
    {
     "data": {
      "text/plain": [
       "['PROFESSION',\n",
       " 'PHONE',\n",
       " 'DATE',\n",
       " 'AGE',\n",
       " 'USERNAME',\n",
       " 'MEDICALRECORD',\n",
       " 'ORGANIZATION',\n",
       " 'DOCTOR',\n",
       " 'IDNUM',\n",
       " 'ZIP',\n",
       " 'CITY',\n",
       " 'HOSPITAL',\n",
       " 'STREET',\n",
       " 'PATIENT',\n",
       " 'STATE']"
      ]
     },
     "execution_count": 18,
     "metadata": {},
     "output_type": "execute_result"
    }
   ],
   "source": [
    "list(set(entity_list))"
   ]
  },
  {
   "cell_type": "code",
   "execution_count": 19,
   "metadata": {},
   "outputs": [],
   "source": [
    "set1 = ['FAX',\n",
    " 'PROFESSION',\n",
    " 'DATE',\n",
    " 'AGE',\n",
    " 'USERNAME',\n",
    " 'ORGANIZATION',\n",
    " 'MEDICALRECORD',\n",
    " 'DOCTOR',\n",
    " 'IDNUM',\n",
    " 'he',\n",
    " 'STREET',\n",
    " 'ZIP',\n",
    " 'CITY',\n",
    " 'HOSPITAL',\n",
    " 'COUNTRY',\n",
    " 'PHONE',\n",
    " 'PATIENT',\n",
    " 'STATE']\n",
    "\n",
    "set2 = ['PROFESSION',\n",
    " 'PHONE',\n",
    " 'DATE',\n",
    " 'AGE',\n",
    " 'USERNAME',\n",
    " 'MEDICALRECORD',\n",
    " 'ORGANIZATION',\n",
    " 'DOCTOR',\n",
    " 'IDNUM',\n",
    " 'ZIP',\n",
    " 'CITY',\n",
    " 'HOSPITAL',\n",
    " 'STREET',\n",
    " 'PATIENT',\n",
    " 'STATE']"
   ]
  },
  {
   "cell_type": "code",
   "execution_count": 23,
   "metadata": {},
   "outputs": [
    {
     "data": {
      "text/plain": [
       "['DATE',\n",
       " 'AGE',\n",
       " 'ORGANIZATION',\n",
       " 'DOCTOR',\n",
       " 'CITY',\n",
       " 'PHONE',\n",
       " 'FAX',\n",
       " 'PROFESSION',\n",
       " 'USERNAME',\n",
       " 'MEDICALRECORD',\n",
       " 'IDNUM',\n",
       " 'he',\n",
       " 'ZIP',\n",
       " 'HOSPITAL',\n",
       " 'COUNTRY',\n",
       " 'STREET',\n",
       " 'PATIENT',\n",
       " 'STATE']"
      ]
     },
     "execution_count": 23,
     "metadata": {},
     "output_type": "execute_result"
    }
   ],
   "source": [
    "list(set(set1).union(set(set2)))"
   ]
  },
  {
   "cell_type": "code",
   "execution_count": null,
   "metadata": {},
   "outputs": [],
   "source": []
  }
 ],
 "metadata": {
  "kernelspec": {
   "display_name": "continental",
   "language": "python",
   "name": "python3"
  },
  "language_info": {
   "codemirror_mode": {
    "name": "ipython",
    "version": 3
   },
   "file_extension": ".py",
   "mimetype": "text/x-python",
   "name": "python",
   "nbconvert_exporter": "python",
   "pygments_lexer": "ipython3",
   "version": "3.9.17"
  },
  "orig_nbformat": 4
 },
 "nbformat": 4,
 "nbformat_minor": 2
}
