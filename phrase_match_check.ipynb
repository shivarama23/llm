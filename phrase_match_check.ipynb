{
 "cells": [
  {
   "cell_type": "code",
   "execution_count": 13,
   "metadata": {},
   "outputs": [],
   "source": [
    "import re\n",
    "from Levenshtein import distance as levenshtein_distance"
   ]
  },
  {
   "cell_type": "code",
   "execution_count": 1,
   "metadata": {},
   "outputs": [],
   "source": [
    "def search_phrase_in_paragraph(phrase, paragraph):\n",
    "    # Search for the phrase in the paragraph using regular expression\n",
    "    matches = re.finditer(phrase, paragraph, re.IGNORECASE)\n",
    "    result = []\n",
    "    \n",
    "    for match in matches:\n",
    "        # Get the start and end character positions of the phrase\n",
    "        start = match.start()\n",
    "        end = match.end()\n",
    "        result.append((start, end))\n",
    "    \n",
    "    return result"
   ]
  },
  {
   "cell_type": "code",
   "execution_count": 14,
   "metadata": {},
   "outputs": [],
   "source": [
    "def check_90_percent_match(phrase, paragraph):\n",
    "    # Calculate the minimum required similarity score for a 90% match\n",
    "    min_similarity_score = len(phrase) * 0.99\n",
    "    \n",
    "    # Initialize a list to store the start and end character positions of matches\n",
    "    result = []\n",
    "    \n",
    "    # Iterate over the paragraph to find potential matches\n",
    "    for i in range(len(paragraph) - len(phrase) + 1):\n",
    "        substring = paragraph[i:i + len(phrase)]\n",
    "        \n",
    "        # Calculate the Levenshtein distance between the phrase and the substring\n",
    "        distance = levenshtein_distance(phrase, substring)\n",
    "        \n",
    "        # If the distance is less than the minimum required similarity score, it's a match\n",
    "        if distance <= 2:\n",
    "            start = i\n",
    "            end = i + len(phrase)\n",
    "            result.append((start, end))\n",
    "    \n",
    "    return result"
   ]
  },
  {
   "cell_type": "code",
   "execution_count": 20,
   "metadata": {},
   "outputs": [],
   "source": [
    "def merge_overlapping_tuples(tuples):\n",
    "    if not tuples:\n",
    "        return []\n",
    "\n",
    "    # Sort the list of tuples by their start index\n",
    "    sorted_tuples = sorted(tuples, key=lambda x: x[0])\n",
    "\n",
    "    merged = []\n",
    "    current_start, current_end = sorted_tuples[0]\n",
    "\n",
    "    for start, end in sorted_tuples[1:]:\n",
    "        if start <= current_end:\n",
    "            current_end = max(current_end, end)\n",
    "        else:\n",
    "            merged.append((current_start, current_end))\n",
    "            current_start, current_end = start, end\n",
    "\n",
    "    # Append the last merged tuple\n",
    "    merged.append((current_start, current_end))\n",
    "\n",
    "    return merged\n",
    "\n",
    "# # Test the function\n",
    "# input_tuples = [(10, 17), (11, 18), (12, 19), (56, 63), (57, 64), (58, 65)]\n",
    "# output_tuples = merge_overlapping_tuples(input_tuples)\n",
    "# print(output_tuples)"
   ]
  },
  {
   "cell_type": "code",
   "execution_count": 15,
   "metadata": {},
   "outputs": [
    {
     "name": "stdout",
     "output_type": "stream",
     "text": [
      "The phrase 'example' is present in the paragraph at positions: [(11, 18), (57, 64)]\n",
      "Phrases with a 90% match found at positions: [(10, 17), (11, 18), (12, 19), (56, 63), (57, 64), (58, 65)]\n"
     ]
    }
   ],
   "source": [
    "# Example usage\n",
    "paragraph = \"This is an example paragraph. This paragraph contains an example phrase.\"\n",
    "phrase = \"example\"\n",
    "\n",
    "# Search for the phrase in the paragraph\n",
    "positions = search_phrase_in_paragraph(phrase, paragraph)\n",
    "if positions:\n",
    "    print(f\"The phrase '{phrase}' is present in the paragraph at positions: {positions}\")\n",
    "else:\n",
    "    print(f\"The phrase '{phrase}' is not found in the paragraph.\")\n",
    "\n",
    "# Check for a 90% match of the phrase in the paragraph\n",
    "matches = check_90_percent_match(phrase, paragraph)\n",
    "if matches:\n",
    "    print(f\"Phrases with a 90% match found at positions: {matches}\")\n",
    "else:\n",
    "    print(\"No 90% match found in the paragraph.\")\n"
   ]
  },
  {
   "cell_type": "code",
   "execution_count": 21,
   "metadata": {},
   "outputs": [
    {
     "data": {
      "text/plain": [
       "[(10, 19), (56, 65)]"
      ]
     },
     "execution_count": 21,
     "metadata": {},
     "output_type": "execute_result"
    }
   ],
   "source": [
    "merge_overlapping_tuples(matches)"
   ]
  },
  {
   "cell_type": "code",
   "execution_count": 23,
   "metadata": {},
   "outputs": [
    {
     "data": {
      "text/plain": [
       "' example '"
      ]
     },
     "execution_count": 23,
     "metadata": {},
     "output_type": "execute_result"
    }
   ],
   "source": [
    "paragraph[10:19]"
   ]
  },
  {
   "cell_type": "code",
   "execution_count": 8,
   "metadata": {},
   "outputs": [],
   "source": [
    "from Levenshtein import distance as levenshtein_distance"
   ]
  },
  {
   "cell_type": "code",
   "execution_count": 12,
   "metadata": {},
   "outputs": [
    {
     "data": {
      "text/plain": [
       "1"
      ]
     },
     "execution_count": 12,
     "metadata": {},
     "output_type": "execute_result"
    }
   ],
   "source": [
    "levenshtein_distance(\"Shivarama\", \"Shivaram\")"
   ]
  },
  {
   "cell_type": "code",
   "execution_count": null,
   "metadata": {},
   "outputs": [],
   "source": []
  }
 ],
 "metadata": {
  "kernelspec": {
   "display_name": "continental",
   "language": "python",
   "name": "python3"
  },
  "language_info": {
   "codemirror_mode": {
    "name": "ipython",
    "version": 3
   },
   "file_extension": ".py",
   "mimetype": "text/x-python",
   "name": "python",
   "nbconvert_exporter": "python",
   "pygments_lexer": "ipython3",
   "version": "3.9.17"
  },
  "orig_nbformat": 4
 },
 "nbformat": 4,
 "nbformat_minor": 2
}
